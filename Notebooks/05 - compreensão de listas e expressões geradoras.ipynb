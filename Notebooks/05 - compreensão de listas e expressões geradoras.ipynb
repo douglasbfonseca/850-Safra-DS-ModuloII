{
 "cells": [
  {
   "cell_type": "markdown",
   "metadata": {},
   "source": [
    "# Compreensão de listas e expressões geradoras\n",
    "\n",
    "Muito do que estudamos até o momento em Python pode ser reproduzido de maneira muito parecida em outras linguagens. Comandos como if, else, while e for, bem como conceitos como criar funções, passar parâmetros e retornar valores são comuns a uma infinidade de linguagens de programação.\n",
    "\n",
    "Porém, um dos objetivos da linguagem Python é realizar o máximo possível de trabalho com a menor quantidade possível de código, resultando em um código mais limpo e com menos efeitos colaterais. \n",
    "\n",
    "Com isso, o Python traz maneiras diferentes e mais enxutas de resolver problemas que já lidávamos bem utilizando outras técnicas. Parte dessas técnicas foi inspirada em conceitos de **programação funcional**, que será explicada um pouco melhor em uma aula futura.\n",
    "\n",
    "As **compreensões de listas** e **expressões geradoras** são algumas dessas ferramentas."
   ]
  },
  {
   "cell_type": "markdown",
   "metadata": {},
   "source": [
    "## Compreensão de listas\n",
    "\n",
    "Vamos considerar um probleminha simples: montar uma lista com os quadrados dos números de 1 até 10. Você provavelmente resolveria esse problema da seguinte maneira:"
   ]
  },
  {
   "cell_type": "code",
   "execution_count": null,
   "metadata": {},
   "outputs": [],
   "source": [
    "quadrados = []\n",
    "\n",
    "for x in range(1, 11):\n",
    "    quadrados.append(x**2)\n",
    "\n",
    "print(quadrados)\n",
    "print(x)"
   ]
  },
  {
   "cell_type": "markdown",
   "metadata": {},
   "source": [
    "Note que utilizamos 3 linhas de código para criar uma lista: uma para declarar uma lista, uma para percorrer alguns valores e uma para executar o cálculo e adicionar o resultado à lista.\n",
    "\n",
    "Além disso, criamos uma variável extra, ```x```, que segue existindo em nosso programa mesmo após o loop, como você pode observar pelo segundo ```print``` do exemplo.\n",
    "\n",
    "A **compreensão de listas** resolve todos esses problemas: iremos resumir em uma única linha a criação da nova lista já com todos os valores desejados, e sem variáveis *sobrando* após a execução:"
   ]
  },
  {
   "cell_type": "code",
   "execution_count": null,
   "metadata": {},
   "outputs": [],
   "source": [
    "quadrados_compreensao = [num**2 for num in range(1, 11)]\n",
    "\n",
    "print(quadrados_compreensao)"
   ]
  },
  {
   "cell_type": "markdown",
   "metadata": {},
   "source": [
    "Note que a variável ```x``` criada na versão extensa ainda existe. A variável ```num``` utilizada na compreensão, não:"
   ]
  },
  {
   "cell_type": "code",
   "execution_count": null,
   "metadata": {},
   "outputs": [],
   "source": [
    "print('x:', x)\n",
    "print('num:', num)"
   ]
  },
  {
   "cell_type": "markdown",
   "metadata": {},
   "source": [
    "Vale destacar que você não precisa necessariamente utilizar ```range``` em suas compreensões. Você pode utilizar **qualquer** tipo de iterável, como listas, tuplas, strings etc.\n",
    "\n",
    "O exemplo abaixo monta uma lista contendo a metade do valor de cada elemento de uma outra lista:"
   ]
  },
  {
   "cell_type": "code",
   "execution_count": null,
   "metadata": {},
   "outputs": [],
   "source": [
    "numeros = [1, 9, 4, 7, 6, 2]\n",
    "\n",
    "metades = [n/2 for n in numeros]\n",
    "\n",
    "print(metades)"
   ]
  },
  {
   "cell_type": "markdown",
   "metadata": {},
   "source": [
    "### Condicionais em compreensões\n",
    "\n",
    "Podemos utilizar compreensões em nossas condicionais. Imagine que no exemplo anterior não pudéssemos aceitar valores \"quebrados\", e para isso não iremos dividir números ímpares, apenas pares. Podemos colocar um ```if``` na expressão:"
   ]
  },
  {
   "cell_type": "code",
   "execution_count": null,
   "metadata": {},
   "outputs": [],
   "source": [
    "metades_pares = [n/2 for n in numeros if n % 2 == 0 ]\n",
    "print(metades_pares)"
   ]
  },
  {
   "cell_type": "markdown",
   "metadata": {},
   "source": [
    "Podemos também utilizar ```else``` na expressão. Vejamos mais um exemplo e em seguida generalizaremos a sintaxe das compreensões de lista. \n",
    "\n",
    "Considere que vamos, sim, aceitar números quebrados no exemplo das metades. Porém, não queremos utilizar o tipo float desnecessariamente. Portanto, faremos uma divisão **inteira** quando o número for par (para que o resultado seja int) e uma divisão **real** quando o número for ímpar (para que o resultado seja float). A expressão ficaria assim:"
   ]
  },
  {
   "cell_type": "code",
   "execution_count": null,
   "metadata": {},
   "outputs": [],
   "source": [
    "metades_tipo = [n//2 if n % 2 == 0 else n/2 for n in numeros]\n",
    "\n",
    "print(metades_tipo)"
   ]
  },
  {
   "cell_type": "markdown",
   "metadata": {},
   "source": [
    "Note que quando colocamos o ```else```, a ordem da compreensão sofreu uma alteração. Quando era apenas ```if```, ele vinha após o ```for```. Com o ```else```, ambos vem antes.\n",
    "\n",
    "Outro ponto importante é que no caso do ```else``` passamos a ter uma segunda expressão. Quando a condição do ```if``` é verdadeira, a compreensão irá executar a expressão original. Caso contrário, ele irá executar a expressão do ```else```.\n",
    "\n",
    "Resumindo as combinações possíveis:\n",
    "\n",
    "```py\n",
    "lista = [expressao for item in colecao]\n",
    "\n",
    "# equivale a:\n",
    "\n",
    "for item in colecao:\n",
    "    lista.append(expressao)\n",
    "```\n",
    "---\n",
    "\n",
    "```py\n",
    "[expressao for item in colecao if condicao]\n",
    "\n",
    "# equivale a:\n",
    "\n",
    "for item in colecao:\n",
    "    if condicao:\n",
    "        lista.append(expressao)\n",
    "```\n",
    "\n",
    "---\n",
    "\n",
    "```py\n",
    "[expressao if condicao else expressao_alternativa for item in colecao] \n",
    "\n",
    "# equivale a:\n",
    "\n",
    "for item in colecao:\n",
    "    if condicao:\n",
    "        lista.append(expressao)\n",
    "    else:\n",
    "        lista.append(expressao_alternativa)\n",
    "```\n",
    "\n",
    "### Aninhando compreensões\n",
    "\n",
    "É possível aninhar compreensões de lista. Ao colocarmos mais de um ```for``` consecutivo, o primeiro for será considerado o mais externo, e o seguinte, mais interno. O exemplo abaixo mostra todas as combinações possíveis entre alguns nomes e sobrenomes:"
   ]
  },
  {
   "cell_type": "code",
   "execution_count": null,
   "metadata": {},
   "outputs": [],
   "source": [
    "nomes = ['Ana', 'Bruno', 'Carla', 'Daniel', 'Emília']\n",
    "sobrenomes = ['Silva', 'Oliveira']\n",
    "\n",
    "combinacoes = [nome + ' ' + sobrenome for nome in nomes for sobrenome in sobrenomes]\n",
    "print(combinacoes)"
   ]
  },
  {
   "cell_type": "markdown",
   "metadata": {},
   "source": [
    "Inclusive podemos utilizar essa forma para trabalhar com matrizes. O exemplo abaixo lê pelo teclado a quantidade de vitórias, empates e derrotas para cada time em um grupo:"
   ]
  },
  {
   "cell_type": "code",
   "execution_count": null,
   "metadata": {},
   "outputs": [],
   "source": [
    "times = ['Atlético Python', 'JavaScript United', 'C Seniors', 'Javeiros do Norte']\n",
    "entradas = ['V', 'E', 'D']\n",
    "\n",
    "tabela = [[int(input(f'Digite a quantidade de {tipo} do time {time}')) for tipo in entradas] for time in times]\n",
    "\n",
    "print(tabela)"
   ]
  },
  {
   "cell_type": "markdown",
   "metadata": {},
   "source": [
    "### Compreensão de dicionários\n",
    "\n",
    "Da mesma forma que utilizamos compreensão para listas, podemos utilizá-la para dicionários. A diferença é que precisamos, obrigatoriamente, passar um par chave-valor. O exemplo abaixo parte de uma lista de notas e uma lista de alunos e chega em um dicionário associando cada aluno a uma nota.\n",
    "\n"
   ]
  },
  {
   "cell_type": "code",
   "execution_count": null,
   "metadata": {},
   "outputs": [],
   "source": [
    "alunos = ['Ana', 'Bruno', 'Carla', 'Daniel', 'Emília']\n",
    "medias = [9.0, 8.0, 8.0, 6.5, 7.0]\n",
    "\n",
    "cadastro = {alunos[i]:medias[i] for i in range(len(alunos))}\n",
    "\n",
    "print(cadastro)"
   ]
  },
  {
   "cell_type": "markdown",
   "metadata": {},
   "source": [
    "Talvez você não tenha achado esse código tão *pythonico*, e você tem razão. Não gostamos de percorrer listas por índices dessa maneira. Uma estratégia melhor é utilizar o *zip*. Vejamos um exemplo para entender o que o *zip* faz com listas.\n",
    "Execute o código abaixo:"
   ]
  },
  {
   "cell_type": "code",
   "execution_count": null,
   "metadata": {},
   "outputs": [],
   "source": [
    "alunos = ['Ana', 'Bruno', 'Carla', 'Daniel', 'Emília']\n",
    "medias = [9.0, 8.0, 8.0, 6.5, 7.0]\n",
    "\n",
    "zip_alunos = zip(alunos, medias)\n",
    "\n",
    "for item in zip_alunos:\n",
    "    print(item)"
   ]
  },
  {
   "cell_type": "markdown",
   "metadata": {},
   "source": [
    "O *zip* montou uma coleção onde cada elemento é uma tupla contendo um elemento da primeira lista associado ao elemento da mesma posição na segunda lista. Utilizando o nosso bom e velho *tuple unpacking*, podemos tirar proveito disso para percorrer duas listas em paralelo:"
   ]
  },
  {
   "cell_type": "code",
   "execution_count": null,
   "metadata": {},
   "outputs": [],
   "source": [
    "for a, m in zip(alunos, medias):\n",
    "    print(f'Aluno: {a}\\t | Média:{m}')"
   ]
  },
  {
   "cell_type": "markdown",
   "metadata": {},
   "source": [
    "Vamos refazer nossa compreensão de dicionários para ser mais *Pythonica*:"
   ]
  },
  {
   "cell_type": "code",
   "execution_count": null,
   "metadata": {},
   "outputs": [],
   "source": [
    "alunos = ['Ana', 'Bruno', 'Carla', 'Daniel', 'Emília']\n",
    "medias = [9.0, 8.0, 8.0, 6.5, 7.0]\n",
    "\n",
    "cadastro = {aluno:media for aluno,media in zip(alunos, medias)}\n",
    "\n",
    "print(cadastro)"
   ]
  },
  {
   "cell_type": "markdown",
   "metadata": {},
   "source": [
    "## Expressões geradoras\n",
    "\n",
    "Se você executar o código abaixo, não notará nenhum erro de execução. Ambas as linhas executam com sucesso:"
   ]
  },
  {
   "cell_type": "code",
   "execution_count": null,
   "metadata": {},
   "outputs": [],
   "source": [
    "colchetes = [x for x in range(10)]\n",
    "\n",
    "parenteses = (x for x in range(10))"
   ]
  },
  {
   "cell_type": "markdown",
   "metadata": {},
   "source": [
    "Listas são representadas por colchetes, e fazemos compreensão de listas utilizando colchetes. Dicionários utilizam chaves (**{** e **}**), e utilizamos chaves para fazer compreensão de dicionários. A expressão entre parênteses só pode ser uma tupla, certo?"
   ]
  },
  {
   "cell_type": "code",
   "execution_count": null,
   "metadata": {},
   "outputs": [],
   "source": [
    "print(colchetes)\n",
    "print(type(colchetes))\n",
    "\n",
    "print(parenteses)\n",
    "print(type(parenteses))"
   ]
  },
  {
   "cell_type": "markdown",
   "metadata": {},
   "source": [
    "Não existe compreensão de tuplas em Python. Quando colocamos uma expressão semelhante a uma compreensão de lista entre colchetes, estamos criando uma expressão geradora. Note que podemos iterar uma expressão geradora:"
   ]
  },
  {
   "cell_type": "code",
   "execution_count": null,
   "metadata": {},
   "outputs": [],
   "source": [
    "gerador_quadrados = (x**2 for x in range(10))\n",
    "\n",
    "for quadrado in gerador_quadrados:\n",
    "    print(quadrado)"
   ]
  },
  {
   "cell_type": "markdown",
   "metadata": {},
   "source": [
    "Também podemos convertê-lo para outras estruturas, como uma lista ou uma tupla:"
   ]
  },
  {
   "cell_type": "code",
   "execution_count": null,
   "metadata": {},
   "outputs": [],
   "source": [
    "gerador_impares = (x for x in range(20) if x % 2 == 1)\n",
    "\n",
    "lista_impares = list(gerador_impares)\n",
    "\n",
    "print(lista_impares)"
   ]
  },
  {
   "cell_type": "markdown",
   "metadata": {},
   "source": [
    "Porém, não podemos utilizar nosso gerador uma segunda vez. Vamos tentar:"
   ]
  },
  {
   "cell_type": "code",
   "execution_count": 37,
   "metadata": {},
   "outputs": [
    {
     "name": "stdout",
     "output_type": "stream",
     "text": [
      "0\n",
      "1\n",
      "4\n",
      "9\n",
      "16\n",
      "25\n",
      "36\n",
      "49\n",
      "64\n",
      "81\n",
      "[]\n"
     ]
    }
   ],
   "source": [
    "gerador_quadrados = (x**2 for x in range(10))\n",
    "\n",
    "for quadrado in gerador_quadrados:\n",
    "    print(quadrado)\n",
    "\n",
    "lista_quadrados = list(gerador_quadrados)\n",
    "print(lista_quadrados)"
   ]
  },
  {
   "cell_type": "markdown",
   "metadata": {},
   "source": [
    "Para entender porque a lista saiu vazia, precisamos entender a diferença entre um **iterável** e um **iterador** em Python.\n",
    "\n",
    "### Iteráveis e iteradores\n",
    "\n",
    "Um **iterável** é um objeto em Python que podemos percorrer utilizando um loop. Geralmente pensamos em iteráveis como algum tipo de coleção. Listas, tuplas, dicionários e strings são todos iteráveis.\n",
    "\n",
    "Porém, o que o loop realmente utiliza não é o iterável, mas o **iterador**. Quando tentamos percorrer um iterável, é criado um iterador a partir dele utilizando a função ```iter```. Em cada passo da iteração (do loop), a função ```next``` é chamada, e ela irá retornar o próximo elemento. Quando os elementos são esgotados, ela irá lançar a exceção ```StopIteration```.\n",
    "\n",
    "Veja o exemplo abaixo:"
   ]
  },
  {
   "cell_type": "code",
   "execution_count": null,
   "metadata": {},
   "outputs": [],
   "source": [
    "lista = [1, 3, 5]\n",
    "\n",
    "iterador = iter(lista)\n",
    "\n",
    "print(iterador)\n",
    "\n",
    "print(next(iterador))\n",
    "print(next(iterador))\n",
    "print(next(iterador))\n",
    "print(next(iterador))"
   ]
  },
  {
   "cell_type": "markdown",
   "metadata": {},
   "source": [
    "Uma diferença fundamental entre um **iterável** e um **iterador** é que o iterador já possui todos os exemplos salvos em algum lugar. O iterável não. Ele irá gerar/buscar cada elemento no momento que a função ```next``` é chamada, e ele não irá salvar os elementos anteriores.\n",
    "\n",
    "Uma expressão geradora não é um **iterável**, ela é um **iterador**. Uma lista é um **iterável**.\n",
    "\n",
    "Ou seja, quando nós fazemos uma compreensão de lista, a expressão é avaliada na mesma hora e todos os elementos são gerados e salvos na memória.\n",
    "\n",
    "Quando utilizamos uma expressão geradora, cada elemento é gerado apenas quando solicitado, e os elementos não ficam salvos.\n",
    "\n"
   ]
  },
  {
   "cell_type": "code",
   "execution_count": null,
   "metadata": {},
   "outputs": [],
   "source": [
    "gerador = (x for x in range(5))\n",
    "\n",
    "print(next(gerador))\n",
    "print(next(gerador))\n",
    "print(next(gerador))\n",
    "print(next(gerador))\n",
    "print(next(gerador))\n",
    "#print(next(gerador)) # essa linha provoca uma exceção"
   ]
  },
  {
   "cell_type": "markdown",
   "metadata": {},
   "source": [
    "Podemos utilizar expressões geradoras quando:\n",
    "\n",
    "* Iremos trabalhar com uma base de dados tão grande que a geração da lista pode ser excessivamente lenta ou consumir memória demais.\n",
    "* Quando desejamos obter dados infinitos (uma sequência numérica sem fim, ou então um *stream* de dados que pode estar chegando por um sensor ou pela internet, por exemplo).\n",
    "* Quando sabemos com certeza absoluta que só precisaremos iterar uma única vez por cada elemento e não precisaremos deles posteriormente.\n",
    "\n",
    "Caso você precise dos dados mais de uma vez, a expressão geradora deixa de ser atrativa e compensa mais utilizar compreensão de listas.\n"
   ]
  },
  {
   "cell_type": "markdown",
   "metadata": {},
   "source": [
    "## Funções geradoras\n",
    "\n",
    "Expressões geradoras são uma forma compacta para criar iteradores. Uma das formas mais completas envolve utilizar programação orientada a objeto para definir uma classe com alguns métodos específicos para que os objetos se comportem como geradores. A outra envolve utilizar uma função geradora.\n",
    "\n",
    "Funções geradoras lembram bastante funções convencionais, mas ao invés de ```return``` elas utilizarão a palavra ```yield```. \n",
    "\n",
    "A função irá retornar um iterador, e iremos sempre chamar ```next``` passando esse gerador.\n",
    "\n",
    "Cada vez que o ```next``` for chamado, o iterador irá executar a função até encontrar o ```yield```. O estado da função é salvo e o valor do ```yield``` é retornado. Quando chamarmos ```next``` novamente, a função irá executar do ponto que parou até encontrar novamente o ```yield```. Quando não houver mais ```yield```, a exceção ```StopIteraction``` será lançada.\n",
    "\n",
    "Vejamos um exemplo:"
   ]
  },
  {
   "cell_type": "code",
   "execution_count": 20,
   "metadata": {},
   "outputs": [
    {
     "name": "stdout",
     "output_type": "stream",
     "text": [
      "1\n",
      "3\n",
      "5\n"
     ]
    },
    {
     "ename": "StopIteration",
     "evalue": "",
     "output_type": "error",
     "traceback": [
      "\u001b[1;31m---------------------------------------------------------------------------\u001b[0m",
      "\u001b[1;31mStopIteration\u001b[0m                             Traceback (most recent call last)",
      "\u001b[1;32m~\\AppData\\Local\\Temp/ipykernel_8944/3566006827.py\u001b[0m in \u001b[0;36m<module>\u001b[1;34m\u001b[0m\n\u001b[0;32m      9\u001b[0m \u001b[0mprint\u001b[0m\u001b[1;33m(\u001b[0m\u001b[0mnext\u001b[0m\u001b[1;33m(\u001b[0m\u001b[0mmeu_gerador\u001b[0m\u001b[1;33m)\u001b[0m\u001b[1;33m)\u001b[0m\u001b[1;33m\u001b[0m\u001b[1;33m\u001b[0m\u001b[0m\n\u001b[0;32m     10\u001b[0m \u001b[0mprint\u001b[0m\u001b[1;33m(\u001b[0m\u001b[0mnext\u001b[0m\u001b[1;33m(\u001b[0m\u001b[0mmeu_gerador\u001b[0m\u001b[1;33m)\u001b[0m\u001b[1;33m)\u001b[0m\u001b[1;33m\u001b[0m\u001b[1;33m\u001b[0m\u001b[0m\n\u001b[1;32m---> 11\u001b[1;33m \u001b[0mprint\u001b[0m\u001b[1;33m(\u001b[0m\u001b[0mnext\u001b[0m\u001b[1;33m(\u001b[0m\u001b[0mmeu_gerador\u001b[0m\u001b[1;33m)\u001b[0m\u001b[1;33m)\u001b[0m\u001b[1;33m\u001b[0m\u001b[1;33m\u001b[0m\u001b[0m\n\u001b[0m",
      "\u001b[1;31mStopIteration\u001b[0m: "
     ]
    }
   ],
   "source": [
    "def funcao_geradora():\n",
    "    yield 1\n",
    "    yield 3\n",
    "    yield 5\n",
    "\n",
    "meu_gerador = funcao_geradora()\n",
    "\n",
    "print(next(meu_gerador))\n",
    "print(next(meu_gerador))\n",
    "print(next(meu_gerador))\n",
    "print(next(meu_gerador))"
   ]
  },
  {
   "cell_type": "markdown",
   "metadata": {},
   "source": [
    "A nossa função geradora pode, inclusive, ter malhas de repetição:"
   ]
  },
  {
   "cell_type": "code",
   "execution_count": null,
   "metadata": {},
   "outputs": [],
   "source": [
    "def gerador_de_sequencia(limite:int):\n",
    "    contador = 0\n",
    "    while contador < limite:\n",
    "        yield contador\n",
    "        contador += 1\n",
    "\n",
    "iterador_sequencia = gerador_de_sequencia(10)\n",
    "\n",
    "while True:\n",
    "    try:\n",
    "        print(next(iterador_sequencia))\n",
    "    except StopIteration:\n",
    "        print('Chegou no fim!')\n",
    "        break"
   ]
  },
  {
   "cell_type": "markdown",
   "metadata": {},
   "source": [
    "> \n",
    "> **Observação:** se você tentou fazer uma compreensão de dicionário e esqueceu de utilizar um par chave-valor, talvez você tenha se surpreendido ao notar que não deu erro. Isso ocorre porque existe *outra* estrutura de dados em Python que não estudamos no curso que utiliza os símbolos **{** e **}**: o ```set``` (conjunto). Ele é uma coleção **mutável** de elementos (como a lista), mas ele não possui índice (porque a ordem não importa) e ele não aceita elementos repetidos. Caso tenha curiosidade, segue material de referência com o básico de como trabalhar com conjuntos: https://www.programiz.com/python-programming/set\n",
    "> "
   ]
  },
  {
   "cell_type": "markdown",
   "metadata": {},
   "source": [
    "Caso tenha interesse em se aprofundar nos assuntos de hoje e ver alguns experimentos envolvendo tamanho e performance de cada um, segue algumas boas referências:\n",
    "\n",
    ">https://djangostars.com/blog/list-comprehensions-and-generator-expressions/\n",
    ">\n",
    ">https://towardsdatascience.com/comprehensions-and-generator-expression-in-python-2ae01c48fc50\n",
    ">\n",
    ">https://docs.python.org/3/howto/functional.html#generator-expressions-and-list-comprehensions"
   ]
  },
  {
   "cell_type": "markdown",
   "metadata": {},
   "source": [
    "# Exercícios\n",
    "\n",
    "> Nos exercícios mais simples, que consistem apenas em gerar uma lista ou dicionário, utilize necessariamente compreensão de lista/dicionário. Em exercícios com instruções mais específicas, siga as instruções. Em exercícios de geradores, fique à vontade para usar expressões geradoras ou funções geradoras, mas tenha em mente que nem todas as tarefas podem ser reduzidas a uma expressão geradora. \n",
    "\n",
    "---\n",
    "\n",
    "Um professor precisou anular uma questão de uma prova. Faça uma função que recebe a lista de notas da turma, o valor da questão e soma esse valor em todas as notas."
   ]
  },
  {
   "cell_type": "code",
   "execution_count": 2,
   "metadata": {},
   "outputs": [
    {
     "data": {
      "text/plain": [
       "[7, 8, 10, 11]"
      ]
     },
     "execution_count": 2,
     "metadata": {},
     "output_type": "execute_result"
    }
   ],
   "source": [
    "def notas_prova (lista, valor):\n",
    "    lista = [i + valor for i in lista]\n",
    "    return lista\n",
    "\n",
    "notas_prova([5,6,8,9], 2)\n"
   ]
  },
  {
   "cell_type": "markdown",
   "metadata": {},
   "source": [
    "Faça uma função que recebe uma lista de números e retorna uma lista contendo os cubos dos números pares."
   ]
  },
  {
   "cell_type": "code",
   "execution_count": 4,
   "metadata": {},
   "outputs": [
    {
     "data": {
      "text/plain": [
       "[8, 216, 512]"
      ]
     },
     "execution_count": 4,
     "metadata": {},
     "output_type": "execute_result"
    }
   ],
   "source": [
    "def notas_prova (*lista):\n",
    "    lista_cubos = [i**3 for i in lista if i%2 == 0]\n",
    "    return lista_cubos\n",
    "\n",
    "notas_prova(1,2,5,6,8,9)\n"
   ]
  },
  {
   "cell_type": "markdown",
   "metadata": {},
   "source": [
    "Faça uma função que recebe uma lista de números e retorna uma lista contendo os cubos dos números positivos e o quadrado dos números negativos."
   ]
  },
  {
   "cell_type": "code",
   "execution_count": 5,
   "metadata": {},
   "outputs": [
    {
     "data": {
      "text/plain": [
       "[1, 8, 125, 36, 512, 81]"
      ]
     },
     "execution_count": 5,
     "metadata": {},
     "output_type": "execute_result"
    }
   ],
   "source": [
    "def notas_prova (*lista):\n",
    "    lista_cubos = [i**3 if i > 0 else i**2 for i in lista]\n",
    "    return lista_cubos\n",
    "\n",
    "notas_prova(1,2,5,-6,8,-9)"
   ]
  },
  {
   "cell_type": "markdown",
   "metadata": {},
   "source": [
    "Faça uma função que retorna uma lista contendo apenas float a partir de uma lista contendo variáveis inteiras, float e strings. Exemplo:\n",
    "\n",
    "Entrada: [1, 2.0, '3', 4.0, '5.5', 6]\n",
    "\n",
    "Saída: [1.0, 2.0, 3.0, 4.0, 5.5, 6.0]"
   ]
  },
  {
   "cell_type": "code",
   "execution_count": 6,
   "metadata": {},
   "outputs": [
    {
     "data": {
      "text/plain": [
       "[1.0, 2.0, 3.0, 4.0, 5.5, 6.0]"
      ]
     },
     "execution_count": 6,
     "metadata": {},
     "output_type": "execute_result"
    }
   ],
   "source": [
    "def conversor(lista):\n",
    "    lista_convertida = [float(i) for i in lista]\n",
    "    return lista_convertida\n",
    "conversor([1, 2.0, '3', 4.0, '5.5', 6])"
   ]
  },
  {
   "cell_type": "markdown",
   "metadata": {},
   "source": [
    "Faça uma função que retorna uma lista contendo apenas números a partir de uma lista contendo variáveis inteiras, float e strings. Valores já numéricos **não** devem ter seu tipo alterado, apenas strings. Exemplo:\n",
    "\n",
    "Entrada: [1, 2.0, '3', 4.0, '5.5', 6]\n",
    "\n",
    "Saída: [1, 2.0, 3.0, 4.0, 5.5, 6]"
   ]
  },
  {
   "cell_type": "code",
   "execution_count": 9,
   "metadata": {},
   "outputs": [
    {
     "data": {
      "text/plain": [
       "[1, 2.0, 3.0, 4.0, 5.5, 6]"
      ]
     },
     "execution_count": 9,
     "metadata": {},
     "output_type": "execute_result"
    }
   ],
   "source": [
    "def conversor(lista):\n",
    "    lista_convertida = [float(i) if type(i) == str else i for i in lista ]\n",
    "    return lista_convertida\n",
    "conversor([1, 2.0, '3', 4.0, '5.5', 6])"
   ]
  },
  {
   "cell_type": "markdown",
   "metadata": {},
   "source": [
    "Faça uma função que recebe uma lista de nomes, uma lista de médias e a nota mínima para aprovação. Ela deverá retornar uma lista com os nomes dos alunos reprovados."
   ]
  },
  {
   "cell_type": "code",
   "execution_count": 12,
   "metadata": {},
   "outputs": [
    {
     "data": {
      "text/plain": [
       "['pedro', 'albert']"
      ]
     },
     "execution_count": 12,
     "metadata": {},
     "output_type": "execute_result"
    }
   ],
   "source": [
    "def reprovador(nomes, medias, nota_min):\n",
    "    lista_reprovados = [i for i,j in zip(nomes,medias) if j > nota_min ]\n",
    "    return lista_reprovados\n",
    "\n",
    "nomes = ['pedro', 'albert', 'bruno']\n",
    "medias = [7, 10, 5]\n",
    "nota_min = 6\n",
    "reprovador(nomes, medias, nota_min)"
   ]
  },
  {
   "cell_type": "markdown",
   "metadata": {},
   "source": [
    "Faça uma função que recebe uma lista de nomes, uma lista de médias e a nota mínima para aprovação. Ela deverá retornar um dicionário contendo os nomes dos alunos e \"APR\" ou \"REP\" indicando a situação de cada um deles."
   ]
  },
  {
   "cell_type": "code",
   "execution_count": 16,
   "metadata": {},
   "outputs": [
    {
     "data": {
      "text/plain": [
       "{'pedro': 'APR', 'albert': 'APR', 'bruno': 'REP'}"
      ]
     },
     "execution_count": 16,
     "metadata": {},
     "output_type": "execute_result"
    }
   ],
   "source": [
    "def classificador(nomes, medias, nota_min):\n",
    "    dict_alunos = {i:\"APR\" if j > nota_min else \"REP\" for i,j in zip(nomes,medias) }\n",
    "    return dict_alunos\n",
    "nomes = ['pedro', 'albert', 'bruno']\n",
    "medias = [7, 10, 5]\n",
    "nota_min = 6\n",
    "classificador(nomes, medias, nota_min)"
   ]
  },
  {
   "cell_type": "code",
   "execution_count": 15,
   "metadata": {},
   "outputs": [
    {
     "name": "stdout",
     "output_type": "stream",
     "text": [
      "{'pedro': 'APR', 'albert': 'APR', 'bruno': 'REP'}\n"
     ]
    }
   ],
   "source": [
    "nomes = ['pedro', 'albert', 'bruno']\n",
    "medias = [7, 10, 5]\n",
    "nota_min = 6\n",
    "\n",
    "dict_alunos = {}\n",
    "for i,j in zip(nomes, medias):\n",
    "    if j> nota_min:\n",
    "        dict_alunos[i] = \"APR\"\n",
    "    else:\n",
    "        dict_alunos[i] = \"REP\"\n",
    "print(dict_alunos)"
   ]
  },
  {
   "cell_type": "markdown",
   "metadata": {},
   "source": [
    "Crie o seu próprio gerador que funcione como o **range**. \n",
    "\n",
    "* Se ele receber 1 parâmetro, considere como valor final (não incluso na sequência). Valor inicial será 0 e passo será 1.\n",
    "* Se ele receber 2 parâmetros, interprete como valor inicial (incluso) e valor final (não incluso), respectivamente. O passo será 1.\n",
    "* Se ele receber 3 parâmetros, interprete como valor inicial (incluso), valor final (não incluso) e passo.\n",
    "* Caso não receba parâmetros, receba mais do que 3 parâmetros ou receba algum parâmetro que não seja **int**, lance uma exceção."
   ]
  },
  {
   "cell_type": "code",
   "execution_count": 7,
   "metadata": {},
   "outputs": [
    {
     "name": "stdout",
     "output_type": "stream",
     "text": [
      "8\n",
      "5\n",
      "22\n",
      "3\n",
      "35\n"
     ]
    }
   ],
   "source": [
    "def gerador_proprio(valor_final, valor_inicial= 0, passo = 1):\n",
    "    valor_atual = valor_inicial\n",
    "    while valor_atual < valor_final:\n",
    "        yield valor_atual\n",
    "        valor_atual += passo\n",
    "    \n",
    "try:\n",
    "    dado_gerador = gerador_proprio(5)\n",
    "except TypeError:\n",
    "        print(\"Erro!\")\n",
    "\n",
    "lista_teste = [8,5,22,3,35]\n",
    "for i in dado_gerador:\n",
    "    print(lista_teste[i])"
   ]
  },
  {
   "cell_type": "markdown",
   "metadata": {},
   "source": [
    "Crie um gerador infinito para representar uma **progressão aritmética**. Dada uma **razão** e um **termo inicial**, ele deverá calcular o restante dos termos."
   ]
  },
  {
   "cell_type": "code",
   "execution_count": null,
   "metadata": {},
   "outputs": [],
   "source": [
    "def gerador_pa(ti, razao, limite):\n",
    "    ta = ti\n",
    "    while ta < limite:\n",
    "        ta += razao\n",
    "        yield ta\n",
    "\n",
    "\n",
    "pa_teste = gerador_pa(3, 2, 10000)\n",
    "\n",
    "for i in pa_teste:\n",
    "    print(i)"
   ]
  },
  {
   "cell_type": "markdown",
   "metadata": {},
   "source": [
    "Faça um gerador infinito para representar uma **progressão geométrica**. Dada uma **razão** e um **termo inicial** ele deverá calcular o restante dos termos."
   ]
  },
  {
   "cell_type": "code",
   "execution_count": null,
   "metadata": {},
   "outputs": [],
   "source": [
    "def gerador_pg(ti, razao, limite):\n",
    "    ta = ti\n",
    "    while ta < limite:\n",
    "        ta *= razao\n",
    "        yield ta\n",
    "\n",
    "\n",
    "pg_teste = gerador_pg(3, 2, 10000)\n",
    "\n",
    "for i in pg_teste:\n",
    "    print(i)"
   ]
  },
  {
   "cell_type": "markdown",
   "metadata": {},
   "source": [
    "Crie um gerador capaz de gerar infinitos números de Fibonacci.\n",
    "\n",
    "Lembre-se de como os números de Fibonacci são gerados:\n",
    "> f(0) = 0\n",
    "> f(1) = 1\n",
    "> f(n) = f(n-1) + f(n-2)\n",
    "\n",
    "Os primeiros números de Fibonacci são: 0, 1, 1, 2, 3, 5, 8, 13, 21, 34, 55, 89, 144..."
   ]
  },
  {
   "cell_type": "code",
   "execution_count": 55,
   "metadata": {},
   "outputs": [
    {
     "name": "stdout",
     "output_type": "stream",
     "text": [
      "1\n",
      "2\n",
      "3\n",
      "5\n",
      "8\n",
      "13\n",
      "21\n",
      "34\n",
      "55\n",
      "89\n",
      "144\n",
      "233\n",
      "377\n",
      "610\n",
      "987\n",
      "1597\n"
     ]
    }
   ],
   "source": [
    "def gerador_fibo(limite):\n",
    "    t0, t1, tn = 0, 1, 1\n",
    "    while tn < limite:\n",
    "        tn = t1 + t0\n",
    "        yield tn\n",
    "        t0 = t1\n",
    "        t1 = tn\n",
    "\n",
    "\n",
    "\n",
    "fibo_teste = gerador_fibo(1000)\n",
    "\n",
    "for i in fibo_teste:\n",
    "    print(i)"
   ]
  },
  {
   "cell_type": "markdown",
   "metadata": {},
   "source": [
    "Crie um gerador capaz de gerar infinitos números primos.\n",
    "\n",
    "Um número primo é divisível apenas por 1 e por ele mesmo.\n",
    "\n",
    "Exemplos: 2, 3, 5, 7, 11, 13, 17, 19, 23, 29..."
   ]
  },
  {
   "cell_type": "code",
   "execution_count": null,
   "metadata": {},
   "outputs": [],
   "source": []
  },
  {
   "cell_type": "markdown",
   "metadata": {},
   "source": [
    "Você fez o exercício abaixo na lista de arquivos:\n",
    "\n",
    "> Faça um programa que carrega um arquivo CSV de notas (como o gerado pelo exercício anterior) e pede para o usuário digitar a nota mínima para aprovação. Ele deverá gerar um novo arquivo contendo as notas originais e 2 colunas adicionais: a média de cada aluno na primeira (com, no máximo, 2 casas decimais) e \"APR\" ou \"REP\" na segunda, indicando se a média atingiu o valor mínimo ou não.\n",
    "\n",
    "Refaça esse exercício utilizando compreensão de listas para montar a tabela de notas já com todas as notas convertidas para float."
   ]
  },
  {
   "cell_type": "code",
   "execution_count": 13,
   "metadata": {},
   "outputs": [],
   "source": [
    "import csv\n",
    "\n",
    "arquivo = open('notas_alunos.csv', 'r')\n",
    "\n",
    "leitor = csv.reader(arquivo, delimiter=';', lineterminator='\\n')\n",
    "\n",
    "tabela_notas = [[float(elemento) for elemento in linha] for linha in leitor ]\n",
    "\n",
    "#for linha in leitor:\n",
    "    #linha_float = [float(elemento) for elemento in linha]\n",
    "    #for elemento in linha:\n",
    "    #    linha_float.append(float(elemento))\n",
    "    #tabela_notas.append(linha_float)\n",
    "\n",
    "arquivo.close()\n",
    "\n",
    "nota_minima = float(input('Digite a nota para aprovação: '))\n",
    "\n",
    "tabela_notas = [aluno + [sum(aluno)/len(aluno),'APR' if sum(aluno)/len(aluno) >= nota_minima else 'REP'] for aluno in tabela_notas]\n",
    "# #for aluno in tabela_notas:\n",
    "#     soma = 0\n",
    "#     for nota in aluno:\n",
    "#         soma += nota\n",
    "#     media = sum(aluno)/len(aluno)\n",
    "#     aluno.append(media)\n",
    "#     if media >= nota_minima:\n",
    "#         aluno.append('APR')\n",
    "#     else:\n",
    "#         aluno.append('REP')\n",
    "\n",
    "arquivo_saida = open('medias.csv', 'w')\n",
    "\n",
    "escritor = csv.writer(arquivo_saida, delimiter=';', lineterminator='\\n')\n",
    "\n",
    "escritor.writerows(tabela_notas)\n",
    "\n",
    "arquivo_saida.close()"
   ]
  },
  {
   "cell_type": "markdown",
   "metadata": {},
   "source": [
    "Enriqueça o exercício anterior lendo uma lista de nomes a partir de um arquivo, com os nomes separados por quebras de linha.\n",
    "\n",
    "Utilize compreensão de dicionários para associar cada aluno a sua lista de notas. \n",
    "\n",
    "Salve o resultado em um arquivo .json."
   ]
  },
  {
   "cell_type": "code",
   "execution_count": 29,
   "metadata": {},
   "outputs": [],
   "source": [
    "import csv\n",
    "import json\n",
    "\n",
    "with open(\"quebra_linha.txt\", \"r\", encoding=\"utf8\")as arq_notas, open(\"medias.csv\", \"r\", encoding=\"utf8\") as arq_medias:\n",
    "    notas = arq_notas.read().split(\"\\n\")\n",
    "    #print(notas)\n",
    "    medias = csv.reader(arq_medias, delimiter=\";\", lineterminator=\"\\n\")\n",
    "    #for i in medias:\n",
    "    #    print(i)\n",
    "    dict_alunos_medias = {nome:nota for nome, nota in zip(notas, medias)}\n",
    "    #print(dict_alunos_medias)\n",
    "\n",
    "#print(json.dumps(dict_alunos_medias))\n",
    "with open(\"dict_de_alunos.json\", \"w\", encoding=\"utf8\") as file:\n",
    "    file.write(json.dumps(dict_alunos_medias, indent=4))\n",
    "\n",
    "\n",
    "\n"
   ]
  },
  {
   "cell_type": "code",
   "execution_count": 34,
   "metadata": {},
   "outputs": [
    {
     "name": "stdout",
     "output_type": "stream",
     "text": [
      "{'rafael': ['6.0', '7.0', '8.0', '7.0', 'APR'], 'brian': ['12.0', '9.5', '9.0', '10.166666666666666', 'APR'], 'bruna': ['8.0', '7.0', '5.0', '6.666666666666667', 'APR']}\n"
     ]
    }
   ],
   "source": [
    "with open(\"dict_de_alunos.json\", \"r\", encoding=\"utf8\") as file:\n",
    "    #print(type(json.loads(file.read())))\n",
    "    #print(json.load(file))"
   ]
  },
  {
   "cell_type": "code",
   "execution_count": 32,
   "metadata": {},
   "outputs": [
    {
     "ename": "AttributeError",
     "evalue": "'str' object has no attribute 'read'",
     "output_type": "error",
     "traceback": [
      "\u001b[1;31m---------------------------------------------------------------------------\u001b[0m",
      "\u001b[1;31mAttributeError\u001b[0m                            Traceback (most recent call last)",
      "\u001b[1;32m~\\AppData\\Local\\Temp/ipykernel_14368/1607424851.py\u001b[0m in \u001b[0;36m<module>\u001b[1;34m\u001b[0m\n\u001b[1;32m----> 1\u001b[1;33m \u001b[0mjson\u001b[0m\u001b[1;33m.\u001b[0m\u001b[0mload\u001b[0m\u001b[1;33m(\u001b[0m\u001b[1;34m\"dict_de_alunos.json\"\u001b[0m\u001b[1;33m)\u001b[0m\u001b[1;33m\u001b[0m\u001b[1;33m\u001b[0m\u001b[0m\n\u001b[0m",
      "\u001b[1;32mc:\\Program Files\\Python310\\lib\\json\\__init__.py\u001b[0m in \u001b[0;36mload\u001b[1;34m(fp, cls, object_hook, parse_float, parse_int, parse_constant, object_pairs_hook, **kw)\u001b[0m\n\u001b[0;32m    291\u001b[0m     \u001b[0mkwarg\u001b[0m\u001b[1;33m;\u001b[0m \u001b[0motherwise\u001b[0m\u001b[0;31m \u001b[0m\u001b[0;31m`\u001b[0m\u001b[0;31m`\u001b[0m\u001b[0mJSONDecoder\u001b[0m\u001b[0;31m`\u001b[0m\u001b[0;31m`\u001b[0m \u001b[1;32mis\u001b[0m \u001b[0mused\u001b[0m\u001b[1;33m.\u001b[0m\u001b[1;33m\u001b[0m\u001b[1;33m\u001b[0m\u001b[0m\n\u001b[0;32m    292\u001b[0m     \"\"\"\n\u001b[1;32m--> 293\u001b[1;33m     return loads(fp.read(),\n\u001b[0m\u001b[0;32m    294\u001b[0m         \u001b[0mcls\u001b[0m\u001b[1;33m=\u001b[0m\u001b[0mcls\u001b[0m\u001b[1;33m,\u001b[0m \u001b[0mobject_hook\u001b[0m\u001b[1;33m=\u001b[0m\u001b[0mobject_hook\u001b[0m\u001b[1;33m,\u001b[0m\u001b[1;33m\u001b[0m\u001b[1;33m\u001b[0m\u001b[0m\n\u001b[0;32m    295\u001b[0m         \u001b[0mparse_float\u001b[0m\u001b[1;33m=\u001b[0m\u001b[0mparse_float\u001b[0m\u001b[1;33m,\u001b[0m \u001b[0mparse_int\u001b[0m\u001b[1;33m=\u001b[0m\u001b[0mparse_int\u001b[0m\u001b[1;33m,\u001b[0m\u001b[1;33m\u001b[0m\u001b[1;33m\u001b[0m\u001b[0m\n",
      "\u001b[1;31mAttributeError\u001b[0m: 'str' object has no attribute 'read'"
     ]
    }
   ],
   "source": []
  }
 ],
 "metadata": {
  "kernelspec": {
   "display_name": "Python 3.10.0 64-bit",
   "language": "python",
   "name": "python3"
  },
  "language_info": {
   "codemirror_mode": {
    "name": "ipython",
    "version": 3
   },
   "file_extension": ".py",
   "mimetype": "text/x-python",
   "name": "python",
   "nbconvert_exporter": "python",
   "pygments_lexer": "ipython3",
   "version": "3.10.0"
  },
  "orig_nbformat": 4,
  "vscode": {
   "interpreter": {
    "hash": "26de051ba29f2982a8de78e945f0abaf191376122a1563185a90213a26c5da77"
   }
  }
 },
 "nbformat": 4,
 "nbformat_minor": 2
}
